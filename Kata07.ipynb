{
 "cells": [
  {
   "cell_type": "code",
   "execution_count": null,
   "metadata": {},
   "outputs": [],
   "source": [
    "planets = []\n",
    "new_planet = \"\"\n",
    "\n",
    "while new_planet.lower() != \"done\":\n",
    "   new_planet = input(\"\"\"Ingresa un planeta o \"done\" para terminar: \"\"\")\n",
    "   if new_planet != \"done\" and new_planet != \"\":\n",
    "       planets.append(new_planet.title())\n",
    "\n",
    "for planet in planets:\n",
    "    print(planet)"
   ]
  }
 ],
 "metadata": {
  "language_info": {
   "name": "python"
  },
  "orig_nbformat": 4
 },
 "nbformat": 4,
 "nbformat_minor": 2
}
