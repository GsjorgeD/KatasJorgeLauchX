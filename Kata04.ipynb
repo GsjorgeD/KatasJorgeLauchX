{
 "cells": [
  {
   "cell_type": "code",
   "execution_count": null,
   "metadata": {},
   "outputs": [],
   "source": [
    "text = \"\"\"Interesting facts about the Moon. The Moon is Earth's only satellite. There are several interesting facts about the Moon and how it affects life here on Earth. \n",
    "On average, the Moon moves 4cm away from the Earth every year. This yearly drift is not significant enough to cause immediate effects on Earth. The highest daylight temperature of the Moon is 127 C.\"\"\"\n",
    "textpart = text.split(\".\")\n",
    "words= [\"average\",\"temperature\",\"distance\"]\n",
    "\n",
    "for item in textpart:\n",
    "    for words in words:\n",
    "        if words in item:\n",
    "            print(item)\n",
    "            break\n",
    "\n",
    "for item in textpart:\n",
    "    for words in words:\n",
    "        if words in item:\n",
    "            print(item.replace('C', 'Celsius'))\n",
    "            break\n",
    "#print(text.replace(\"C\", \"Celsius\"))\n",
    "        "
   ]
  },
  {
   "cell_type": "code",
   "execution_count": null,
   "metadata": {},
   "outputs": [],
   "source": [
    "from string import Template\n",
    "\n",
    "\n",
    "name = \"Ganymede\"\n",
    "gravity = 0.00162\n",
    "planet = \"Earth\"\n",
    " \n",
    "title  = f\"\"\"Gravity Facts about {name}\"\"\"\n",
    "\n",
    "template = f\"\"\"\\nPlanet name:  {planet} \\nGravity on {name}: {gravity * 1000}\"\"\"\n",
    "\n",
    "template_complete= f\"\"\"{title.title()} {template} \"\"\"\n",
    "print(template_complete)\n",
    "#####################################################\n",
    "name = \"Ganymede\"\n",
    "gravity = 0.00143 # in kms\n",
    "planet = \"Mars\"\n",
    "\n",
    "new_template  = f\"\"\"Gravity Facts about {name}\n",
    "Planet name:  {planet} \\nGravity on {name}: {gravity}\"\"\"\n",
    "\n",
    "print(new_template.format(name=name, planet=planet, gravity=gravity * 1000))"
   ]
  }
 ],
 "metadata": {
  "language_info": {
   "name": "python"
  },
  "orig_nbformat": 4
 },
 "nbformat": 4,
 "nbformat_minor": 2
}
