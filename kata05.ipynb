{
 "cells": [
  {
   "cell_type": "code",
   "execution_count": 3,
   "metadata": {},
   "outputs": [],
   "source": [
    "distance_tierra = 149597870\n",
    "distance_jupiter = 778547200\n",
    "\n",
    "distance = distance_tierra - distance_jupiter\n",
    "#(distance_tierra - distance_jupiter) * 0.621\n",
    "distance_millas=(distance) * 0.621"
   ]
  },
  {
   "cell_type": "code",
   "execution_count": 4,
   "metadata": {},
   "outputs": [],
   "source": [
    "\n",
    "distance1 = input(\"Cual es la primera distancias: \")\n",
    "distance2 = input(\"Cual es la segunda distancia: \")\n",
    "\n",
    "distances= int(distance1) - int(distance2)\n",
    "value_absolute =abs(distances)\n",
    "distance_millas = value_absolute *  0.621\n",
    "print(distance_millas)\n"
   ]
  },
  {
   "cell_type": "markdown",
   "metadata": {},
   "source": [
    "# Ejecucion\n",
    "![](src/img/Kata05.png)"
   ]
  }
 ],
 "metadata": {
  "interpreter": {
   "hash": "b1497cf44d81c2d5058a8a7ad0c5657531887693986d564de35e12310d8fbb9a"
  },
  "kernelspec": {
   "display_name": "Python 3.10.2 64-bit",
   "language": "python",
   "name": "python3"
  },
  "language_info": {
   "codemirror_mode": {
    "name": "ipython",
    "version": 3
   },
   "file_extension": ".py",
   "mimetype": "text/x-python",
   "name": "python",
   "nbconvert_exporter": "python",
   "pygments_lexer": "ipython3",
   "version": "3.10.2"
  },
  "orig_nbformat": 4
 },
 "nbformat": 4,
 "nbformat_minor": 2
}
