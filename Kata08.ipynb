{
 "cells": [
  {
   "cell_type": "code",
   "execution_count": 10,
   "metadata": {},
   "outputs": [
    {
     "name": "stdout",
     "output_type": "stream",
     "text": [
      "mars\n",
      "2\n",
      "mars tiene una circunferencia polar de 6752 \n"
     ]
    }
   ],
   "source": [
    "planet = {\n",
    "    \"name\" : \"mars\",\n",
    "    \"moons\" : 2\n",
    "}\n",
    "\n",
    "print(planet [\"name\"])\n",
    "print(planet [\"moons\"])\n",
    "\n",
    "planet[\"circunferencia (km)\"]={\n",
    "\"polar\": 6752,\n",
    "\"equatorial\": 6792\n",
    "}\n",
    "\n",
    "print(f\"\"\"{planet[\"name\"]} tiene una circunferencia polar de {planet[\"circunferencia (km)\"] [\"polar\"] } \"\"\")"
   ]
  },
  {
   "cell_type": "code",
   "execution_count": 17,
   "metadata": {},
   "outputs": [
    {
     "name": "stdout",
     "output_type": "stream",
     "text": [
      "214\n",
      "17.833333333333332\n"
     ]
    }
   ],
   "source": [
    "planet_moons = {\n",
    "    'mercury': 0,\n",
    "    'venus': 0,\n",
    "    'earth': 1,\n",
    "    'mars': 2,\n",
    "    'jupiter': 79,\n",
    "    'saturn': 82,\n",
    "    'uranus': 27,\n",
    "    'neptune': 14,\n",
    "    'pluto': 5,\n",
    "    'haumea': 2,\n",
    "    'makemake': 1,\n",
    "    'eris': 1\n",
    "}\n",
    "\n",
    "planet_total= len(planet_moons)\n",
    "total=0\n",
    "for moon in planet_moons.values():\n",
    "    total=total + moon\n",
    "print(total)\n",
    "\n",
    "promedio =total/planet_total\n",
    "print(promedio)"
   ]
  }
 ],
 "metadata": {
  "interpreter": {
   "hash": "b1497cf44d81c2d5058a8a7ad0c5657531887693986d564de35e12310d8fbb9a"
  },
  "kernelspec": {
   "display_name": "Python 3.10.2 64-bit",
   "language": "python",
   "name": "python3"
  },
  "language_info": {
   "codemirror_mode": {
    "name": "ipython",
    "version": 3
   },
   "file_extension": ".py",
   "mimetype": "text/x-python",
   "name": "python",
   "nbconvert_exporter": "python",
   "pygments_lexer": "ipython3",
   "version": "3.10.2"
  },
  "orig_nbformat": 4
 },
 "nbformat": 4,
 "nbformat_minor": 2
}
