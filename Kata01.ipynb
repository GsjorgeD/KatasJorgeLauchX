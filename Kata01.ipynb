{
 "cells": [
  {
   "cell_type": "markdown",
   "metadata": {},
   "source": [
    "# Hora actual barco de misiones 🚀"
   ]
  },
  {
   "cell_type": "code",
   "execution_count": 1,
   "metadata": {},
   "outputs": [
    {
     "name": "stdout",
     "output_type": "stream",
     "text": [
      "La actual es: 2022-02-06\n"
     ]
    }
   ],
   "source": [
    "from datetime import date\n",
    "date_now =date.today()\n",
    "print(\"La actual es: \" +str(date_now))"
   ]
  },
  {
   "cell_type": "markdown",
   "metadata": {},
   "source": [
    "## Convertidor de entre parsecs a años luz.\n"
   ]
  },
  {
   "cell_type": "code",
   "execution_count": 7,
   "metadata": {},
   "outputs": [
    {
     "name": "stdout",
     "output_type": "stream",
     "text": [
      "11 parsecs son 33 añoz luz\n"
     ]
    }
   ],
   "source": [
    "lightyear = 0\n",
    "parsecs = 11\n",
    "PARSECS_VALUE = 3.26156\n",
    "\n",
    "lightyear= int(parsecs)* int(PARSECS_VALUE)\n",
    "print(str(parsecs) + \" parsecs son \" + str(lightyear) + \" añoz luz\")\n"
   ]
  }
 ],
 "metadata": {
  "interpreter": {
   "hash": "b1497cf44d81c2d5058a8a7ad0c5657531887693986d564de35e12310d8fbb9a"
  },
  "kernelspec": {
   "display_name": "Python 3.10.2 64-bit",
   "language": "python",
   "name": "python3"
  },
  "language_info": {
   "codemirror_mode": {
    "name": "ipython",
    "version": 3
   },
   "file_extension": ".py",
   "mimetype": "text/x-python",
   "name": "python",
   "nbconvert_exporter": "python",
   "pygments_lexer": "ipython3",
   "version": "3.10.2"
  },
  "orig_nbformat": 4
 },
 "nbformat": 4,
 "nbformat_minor": 2
}
